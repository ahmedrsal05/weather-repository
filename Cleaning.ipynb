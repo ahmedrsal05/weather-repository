{
 "cells": [
  {
   "cell_type": "code",
   "execution_count": 1,
   "id": "aeee7beb",
   "metadata": {},
   "outputs": [],
   "source": [
    "import pandas as pd"
   ]
  },
  {
   "cell_type": "code",
   "execution_count": 2,
   "id": "6d35bda9",
   "metadata": {},
   "outputs": [],
   "source": [
    "df = pd.read_csv('final_data.csv')"
   ]
  },
  {
   "cell_type": "code",
   "execution_count": 3,
   "id": "87212f96",
   "metadata": {},
   "outputs": [],
   "source": [
    "def fill_missing_values(df):\n",
    "    df['Temperature'] = df['Temperature'].fillna(df['Temperature'].median())\n",
    "    df['Humidity'] = df['Humidity'].fillna(df['Humidity'].median())\n",
    "    df['Wind Speed'] = df['Wind Speed'].fillna(df['Wind Speed'].median())\n",
    "    return df\n",
    "\n",
    "def remove_outliers(df):\n",
    "    df['Wind Speed'] = pd.to_numeric(df['Wind Speed'], errors=\"coerce\")\n",
    "    df['Humidity'] = pd.to_numeric(df['Humidity'], errors='coerce')\n",
    "    df['Temperature'] = pd.to_numeric(df['Temperature'], errors='coerce')\n",
    "    \n",
    "    Q1 = df.iloc[:, 1:].quantile(0.25)\n",
    "    Q3 = df.iloc[:, 1:].quantile(0.75)\n",
    "    IQR = Q3 - Q1\n",
    "    lower_bound = Q1 - 1.5 * IQR\n",
    "    upper_bound = Q3 + 1.5 * IQR\n",
    "    \n",
    "    return df[~((df.iloc[:, 1:] < lower_bound) | (df.iloc[:, 1:] > upper_bound)).any(axis=1)]\n",
    "\n",
    "def delete_missing_values(df):\n",
    "    df['Wind Speed'] = pd.to_numeric(df['Wind Speed'], errors='coerce')\n",
    "    df['Humidity'] = pd.to_numeric(df['Humidity'], errors='coerce')\n",
    "    df['Temperature'] = pd.to_numeric(df['Temperature'], errors='coerce')\n",
    "    return df.dropna(how='any')\n",
    "\n",
    "# Example usage:\n",
    "# df = fill_missing_values(df)\n",
    "# df = remove_outliers(df)\n",
    "# df = delete_missing_values(df)"
   ]
  },
  {
   "cell_type": "code",
   "execution_count": null,
   "id": "35944ee5",
   "metadata": {},
   "outputs": [],
   "source": []
  }
 ],
 "metadata": {
  "kernelspec": {
   "display_name": "Python 3 (ipykernel)",
   "language": "python",
   "name": "python3"
  },
  "language_info": {
   "codemirror_mode": {
    "name": "ipython",
    "version": 3
   },
   "file_extension": ".py",
   "mimetype": "text/x-python",
   "name": "python",
   "nbconvert_exporter": "python",
   "pygments_lexer": "ipython3",
   "version": "3.11.3"
  }
 },
 "nbformat": 4,
 "nbformat_minor": 5
}
